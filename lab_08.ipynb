{
  "nbformat": 4,
  "nbformat_minor": 0,
  "metadata": {
    "colab": {
      "provenance": [],
      "include_colab_link": true
    },
    "kernelspec": {
      "name": "python3",
      "display_name": "Python 3"
    },
    "language_info": {
      "name": "python"
    }
  },
  "cells": [
    {
      "cell_type": "markdown",
      "metadata": {
        "id": "view-in-github",
        "colab_type": "text"
      },
      "source": [
        "<a href=\"https://colab.research.google.com/github/vishnugandra/AIML_2303A52194/blob/main/lab_08.ipynb\" target=\"_parent\"><img src=\"https://colab.research.google.com/assets/colab-badge.svg\" alt=\"Open In Colab\"/></a>"
      ]
    },
    {
      "cell_type": "markdown",
      "source": [
        "Import the libraries"
      ],
      "metadata": {
        "id": "cY-KHeZ6g6Vb"
      }
    },
    {
      "cell_type": "code",
      "execution_count": null,
      "metadata": {
        "id": "4fEgdw1qgHSx"
      },
      "outputs": [],
      "source": [
        "import numpy as np\n",
        "import pandas as pd\n",
        "import seaborn as sns\n",
        "import sklearn\n",
        "from sklearn.datasets import fetch_openml\n",
        "import matplotlib.pyplot as plt\n",
        "%matplotlib inline"
      ]
    },
    {
      "cell_type": "code",
      "source": [
        "fetch_openml(data_id=10)"
      ],
      "metadata": {
        "colab": {
          "base_uri": "https://localhost:8080/"
        },
        "id": "LkkVMSj_iubZ",
        "outputId": "f790d46a-2df8-43cd-d60b-cf009d8bad02"
      },
      "execution_count": null,
      "outputs": [
        {
          "output_type": "execute_result",
          "data": {
            "text/plain": [
              "{'data':     lymphatics block_of_affere bl_of_lymph_c bl_of_lymph_s by_pass  \\\n",
              " 0       arched             yes            no            no      no   \n",
              " 1    displaced             yes            no            no     yes   \n",
              " 2     deformed              no            no            no     yes   \n",
              " 3       arched              no            no            no      no   \n",
              " 4       arched              no            no            no      no   \n",
              " ..         ...             ...           ...           ...     ...   \n",
              " 143  displaced              no            no            no      no   \n",
              " 144   deformed              no            no            no      no   \n",
              " 145   deformed             yes            no            no     yes   \n",
              " 146   deformed             yes            no            no      no   \n",
              " 147     arched              no            no            no      no   \n",
              " \n",
              "     extravasates regeneration_of early_uptake_in  lym_nodes_dimin  \\\n",
              " 0             no              no             yes                1   \n",
              " 1            yes              no             yes                1   \n",
              " 2            yes             yes              no                3   \n",
              " 3            yes              no             yes                1   \n",
              " 4             no              no              no                1   \n",
              " ..           ...             ...             ...              ...   \n",
              " 143           no              no             yes                1   \n",
              " 144          yes              no             yes                1   \n",
              " 145          yes              no             yes                1   \n",
              " 146           no              no             yes                1   \n",
              " 147           no              no              no                1   \n",
              " \n",
              "      lym_nodes_enlar changes_in_lym defect_in_node changes_in_node  \\\n",
              " 0                  4          round    lac_central         lacunar   \n",
              " 1                  3          round    lac_central         lacunar   \n",
              " 2                  1           bean        lacunar              no   \n",
              " 3                  2           oval     lac_margin      lac_margin   \n",
              " 4                  2          round     lac_margin      lac_margin   \n",
              " ..               ...            ...            ...             ...   \n",
              " 143                3          round        lacunar         lacunar   \n",
              " 144                4          round    lac_central         lacunar   \n",
              " 145                2           oval    lac_central      lac_margin   \n",
              " 146                3           oval        lacunar     lac_central   \n",
              " 147                1           oval    lac_central      lac_margin   \n",
              " \n",
              "     changes_in_stru special_forms dislocation_of exclusion_of_no  \\\n",
              " 0          stripped      vesicles            yes             yes   \n",
              " 1           diluted      vesicles            yes             yes   \n",
              " 2           diluted      vesicles             no              no   \n",
              " 3         drop_like      vesicles             no             yes   \n",
              " 4             faint      vesicles             no              no   \n",
              " ..              ...           ...            ...             ...   \n",
              " 143          coarse      chalices            yes             yes   \n",
              " 144          coarse      vesicles            yes             yes   \n",
              " 145         diluted      chalices            yes             yes   \n",
              " 146           faint      vesicles            yes             yes   \n",
              " 147           faint      chalices            yes             yes   \n",
              " \n",
              "      no_of_nodes_in  \n",
              " 0                 5  \n",
              " 1                 3  \n",
              " 2                 7  \n",
              " 3                 1  \n",
              " 4                 1  \n",
              " ..              ...  \n",
              " 143               2  \n",
              " 144               6  \n",
              " 145               4  \n",
              " 146               3  \n",
              " 147               2  \n",
              " \n",
              " [148 rows x 18 columns],\n",
              " 'target': 0      malign_lymph\n",
              " 1      malign_lymph\n",
              " 2          fibrosis\n",
              " 3      malign_lymph\n",
              " 4        metastases\n",
              "            ...     \n",
              " 143      metastases\n",
              " 144    malign_lymph\n",
              " 145    malign_lymph\n",
              " 146    malign_lymph\n",
              " 147      metastases\n",
              " Name: class, Length: 148, dtype: category\n",
              " Categories (4, object): ['fibrosis', 'malign_lymph', 'metastases', 'normal'],\n",
              " 'frame':     lymphatics block_of_affere bl_of_lymph_c bl_of_lymph_s by_pass  \\\n",
              " 0       arched             yes            no            no      no   \n",
              " 1    displaced             yes            no            no     yes   \n",
              " 2     deformed              no            no            no     yes   \n",
              " 3       arched              no            no            no      no   \n",
              " 4       arched              no            no            no      no   \n",
              " ..         ...             ...           ...           ...     ...   \n",
              " 143  displaced              no            no            no      no   \n",
              " 144   deformed              no            no            no      no   \n",
              " 145   deformed             yes            no            no     yes   \n",
              " 146   deformed             yes            no            no      no   \n",
              " 147     arched              no            no            no      no   \n",
              " \n",
              "     extravasates regeneration_of early_uptake_in  lym_nodes_dimin  \\\n",
              " 0             no              no             yes                1   \n",
              " 1            yes              no             yes                1   \n",
              " 2            yes             yes              no                3   \n",
              " 3            yes              no             yes                1   \n",
              " 4             no              no              no                1   \n",
              " ..           ...             ...             ...              ...   \n",
              " 143           no              no             yes                1   \n",
              " 144          yes              no             yes                1   \n",
              " 145          yes              no             yes                1   \n",
              " 146           no              no             yes                1   \n",
              " 147           no              no              no                1   \n",
              " \n",
              "      lym_nodes_enlar changes_in_lym defect_in_node changes_in_node  \\\n",
              " 0                  4          round    lac_central         lacunar   \n",
              " 1                  3          round    lac_central         lacunar   \n",
              " 2                  1           bean        lacunar              no   \n",
              " 3                  2           oval     lac_margin      lac_margin   \n",
              " 4                  2          round     lac_margin      lac_margin   \n",
              " ..               ...            ...            ...             ...   \n",
              " 143                3          round        lacunar         lacunar   \n",
              " 144                4          round    lac_central         lacunar   \n",
              " 145                2           oval    lac_central      lac_margin   \n",
              " 146                3           oval        lacunar     lac_central   \n",
              " 147                1           oval    lac_central      lac_margin   \n",
              " \n",
              "     changes_in_stru special_forms dislocation_of exclusion_of_no  \\\n",
              " 0          stripped      vesicles            yes             yes   \n",
              " 1           diluted      vesicles            yes             yes   \n",
              " 2           diluted      vesicles             no              no   \n",
              " 3         drop_like      vesicles             no             yes   \n",
              " 4             faint      vesicles             no              no   \n",
              " ..              ...           ...            ...             ...   \n",
              " 143          coarse      chalices            yes             yes   \n",
              " 144          coarse      vesicles            yes             yes   \n",
              " 145         diluted      chalices            yes             yes   \n",
              " 146           faint      vesicles            yes             yes   \n",
              " 147           faint      chalices            yes             yes   \n",
              " \n",
              "      no_of_nodes_in         class  \n",
              " 0                 5  malign_lymph  \n",
              " 1                 3  malign_lymph  \n",
              " 2                 7      fibrosis  \n",
              " 3                 1  malign_lymph  \n",
              " 4                 1    metastases  \n",
              " ..              ...           ...  \n",
              " 143               2    metastases  \n",
              " 144               6  malign_lymph  \n",
              " 145               4  malign_lymph  \n",
              " 146               3  malign_lymph  \n",
              " 147               2    metastases  \n",
              " \n",
              " [148 rows x 19 columns],\n",
              " 'categories': None,\n",
              " 'feature_names': ['lymphatics',\n",
              "  'block_of_affere',\n",
              "  'bl_of_lymph_c',\n",
              "  'bl_of_lymph_s',\n",
              "  'by_pass',\n",
              "  'extravasates',\n",
              "  'regeneration_of',\n",
              "  'early_uptake_in',\n",
              "  'lym_nodes_dimin',\n",
              "  'lym_nodes_enlar',\n",
              "  'changes_in_lym',\n",
              "  'defect_in_node',\n",
              "  'changes_in_node',\n",
              "  'changes_in_stru',\n",
              "  'special_forms',\n",
              "  'dislocation_of',\n",
              "  'exclusion_of_no',\n",
              "  'no_of_nodes_in'],\n",
              " 'target_names': ['class'],\n",
              " 'DESCR': \"**Author**:   \\n**Source**: Unknown -   \\n**Please cite**:   \\n\\nCitation Request:\\n    This lymphography domain was obtained from the University Medical Centre,\\n    Institute of Oncology, Ljubljana, Yugoslavia.  Thanks go to M. Zwitter and \\n    M. Soklic for providing the data.  Please include this citation if you plan\\n    to use this database.\\n \\n 1. Title: Lymphography Domain\\n \\n 2. Sources: \\n     (a) See Above.\\n     (b) Donors: Igor Kononenko, \\n                 University E.Kardelj\\n                 Faculty for electrical engineering\\n                 Trzaska 25\\n                 61000 Ljubljana (tel.: (38)(+61) 265-161\\n \\n                 Bojan Cestnik\\n                 Jozef Stefan Institute\\n                 Jamova 39\\n                 61000 Ljubljana\\n                 Yugoslavia (tel.: (38)(+61) 214-399 ext.287) \\n    (c) Date: November 1988\\n \\n 3. Past Usage: (sveral)\\n     1. Cestnik,G., Konenenko,I, & Bratko,I. (1987). Assistant-86: A\\n        Knowledge-Elicitation Tool for Sophisticated Users.  In I.Bratko\\n        & N.Lavrac (Eds.) Progress in Machine Learning, 31-45, Sigma Press.\\n        -- Assistant-86: 76% accuracy\\n     2. Clark,P. & Niblett,T. (1987). Induction in Noisy Domains.  In\\n        I.Bratko & N.Lavrac (Eds.) Progress in Machine Learning, 11-30,\\n        Sigma Press.\\n        -- Simple Bayes: 83% accuracy\\n        -- CN2 (99% threshold): 82%\\n     3. Michalski,R., Mozetic,I. Hong,J., & Lavrac,N. (1986).  The Multi-Purpose\\n        Incremental Learning System AQ15 and its Testing Applications to Three\\n        Medical Domains.  In Proceedings of the Fifth National Conference on\\n        Artificial Intelligence, 1041-1045. Philadelphia, PA: Morgan Kaufmann.\\n        -- Experts: 85% accuracy (estimate)\\n        -- AQ15: 80-82%\\n \\n 4. Relevant Information:\\n      This is one of three domains provided by the Oncology Institute\\n      that has repeatedly appeared in the machine learning literature.\\n      (See also breast-cancer and primary-tumor.)\\n \\n 5. Number of Instances: 148\\n \\n 6. Number of Attributes: 19 including the class attribute\\n \\n 7. Attribute information:\\n     --- NOTE: All attribute values in the database have been entered as\\n               numeric values corresponding to their index in the list\\n               of attribute values for that attribute domain as given below.\\n     1. class: normal find, metastases, malign lymph, fibrosis\\n     2. lymphatics: normal, arched, deformed, displaced\\n     3. block of affere: no, yes\\n     4. bl. of lymph. c: no, yes\\n     5. bl. of lymph. s: no, yes\\n     6. by pass: no, yes\\n     7. extravasates: no, yes\\n     8. regeneration of: no, yes\\n     9. early uptake in: no, yes\\n    10. lym.nodes dimin: 0-3\\n    11. lym.nodes enlar: 1-4\\n    12. changes in lym.: bean, oval, round\\n    13. defect in node: no, lacunar, lac. marginal, lac. central\\n    14. changes in node: no, lacunar, lac. margin, lac. central\\n    15. changes in stru: no, grainy, drop-like, coarse, diluted, reticular, \\n                         stripped, faint, \\n    16. special forms: no, chalices, vesicles\\n    17. dislocation of: no, yes\\n    18. exclusion of no: no, yes\\n    19. no. of nodes in: 0-9, 10-19, 20-29, 30-39, 40-49, 50-59, 60-69, >=70\\n \\n 8. Missing Attribute Values: None\\n \\n 9. Class Distribution: \\n     Class:        Number of Instances:\\n     normal find:  2\\n     metastases:   81\\n     malign lymph: 61\\n     fibrosis:     4\\n \\n \\n\\n\\n\\n\\n Relabeled values in attribute 'lymphatics'\\n    From: '1'                     To: normal              \\n    From: '2'                     To: arched              \\n    From: '3'                     To: deformed            \\n    From: '4'                     To: displaced           \\n\\n\\n Relabeled values in attribute 'block_of_affere'\\n    From: '1'                     To: no                  \\n    From: '2'                     To: yes                 \\n\\n\\n Relabeled values in attribute 'bl_of_lymph_c'\\n    From: '1'                     To: no                  \\n    From: '2'                     To: yes                 \\n\\n\\n Relabeled values in attribute 'bl_of_lymph_s'\\n    From: '1'                     To: no                  \\n    From: '2'                     To: yes                 \\n\\n\\n Relabeled values in attribute 'by_pass'\\n    From: '1'                     To: no                  \\n    From: '2'                     To: yes                 \\n\\n\\n Relabeled values in attribute 'extravasates'\\n    From: '1'                     To: no                  \\n    From: '2'                     To: yes                 \\n\\n\\n Relabeled values in attribute 'regeneration_of'\\n    From: '1'                     To: no                  \\n    From: '2'                     To: yes                 \\n\\n\\n Relabeled values in attribute 'early_uptake_in'\\n    From: '1'                     To: no                  \\n    From: '2'                     To: yes                 \\n\\n\\n Relabeled values in attribute 'changes_in_lym'\\n    From: '1'                     To: bean                \\n    From: '2'                     To: oval                \\n    From: '3'                     To: round               \\n\\n\\n Relabeled values in attribute 'defect_in_node'\\n    From: '1'                     To: no                  \\n    From: '2'                     To: lacunar             \\n    From: '3'                     To: lac_margin          \\n    From: '4'                     To: lac_central         \\n\\n\\n Relabeled values in attribute 'changes_in_node'\\n    From: '1'                     To: no                  \\n    From: '2'                     To: lacunar             \\n    From: '3'                     To: lac_margin          \\n    From: '4'                     To: lac_central         \\n\\n\\n Relabeled values in attribute 'changes_in_stru'\\n    From: '1'                     To: no                  \\n    From: '2'                     To: grainy              \\n    From: '3'                     To: drop_like           \\n    From: '4'                     To: coarse              \\n    From: '5'                     To: diluted             \\n    From: '6'                     To: reticular           \\n    From: '7'                     To: stripped            \\n    From: '8'                     To: faint               \\n\\n\\n Relabeled values in attribute 'special_forms'\\n    From: '1'                     To: no                  \\n    From: '2'                     To: chalices            \\n    From: '3'                     To: vesicles            \\n\\n\\n Relabeled values in attribute 'dislocation_of'\\n    From: '1'                     To: no                  \\n    From: '2'                     To: yes                 \\n\\n\\n Relabeled values in attribute 'exclusion_of_no'\\n    From: '1'                     To: no                  \\n    From: '2'                     To: yes                 \\n\\n\\n Relabeled values in attribute 'class'\\n    From: '1'                     To: normal              \\n    From: '2'                     To: metastases          \\n    From: '3'                     To: malign_lymph        \\n    From: '4'                     To: fibrosis\\n\\nDownloaded from openml.org.\",\n",
              " 'details': {'id': '10',\n",
              "  'name': 'lymph',\n",
              "  'version': '1',\n",
              "  'description_version': '1',\n",
              "  'format': 'ARFF',\n",
              "  'creator': 'Institute of Oncology Ljubljana',\n",
              "  'contributor': ['Igor Kononenko', 'Bojan Cestnik'],\n",
              "  'collection_date': '1988-11-01',\n",
              "  'upload_date': '2014-04-06T23:19:52',\n",
              "  'language': 'English',\n",
              "  'licence': 'Public',\n",
              "  'url': 'https://api.openml.org/data/v1/download/10/lymph.arff',\n",
              "  'parquet_url': 'https://openml1.win.tue.nl/datasets/0000/0010/dataset_10.pq',\n",
              "  'file_id': '10',\n",
              "  'default_target_attribute': 'class',\n",
              "  'version_label': '1',\n",
              "  'citation': 'Institute of Oncology Ljubljana',\n",
              "  'tag': ['Machine Learning',\n",
              "   'Medicine',\n",
              "   'study_1',\n",
              "   'study_41',\n",
              "   'study_7',\n",
              "   'study_88',\n",
              "   'uci'],\n",
              "  'visibility': 'public',\n",
              "  'original_data_url': 'https://archive.ics.uci.edu/ml/datasets/Lymphography',\n",
              "  'paper_url': 'https://www.researchgate.net/profile/Bojan-Cestnik/publication/221112466_ASSISTANT_86_A_Knowledge-Elicitation_Tool_for_Sophisticated_Users/links/5f805cef92851c14bcb940ff/ASSISTANT-86-A-Knowledge-Elicitation-Tool-for-Sophisticated-Users.pdf',\n",
              "  'minio_url': 'https://openml1.win.tue.nl/datasets/0000/0010/dataset_10.pq',\n",
              "  'status': 'active',\n",
              "  'processing_date': '2020-11-20 19:32:23',\n",
              "  'md5_checksum': 'f91f03d0535d532c8795787a51005caf'},\n",
              " 'url': 'https://www.openml.org/d/10'}"
            ]
          },
          "metadata": {},
          "execution_count": 54
        }
      ]
    },
    {
      "cell_type": "code",
      "source": [
        "fetch_openml(name='car')"
      ],
      "metadata": {
        "colab": {
          "base_uri": "https://localhost:8080/"
        },
        "id": "8TWhp0ubjrAS",
        "outputId": "d68ce1c8-1236-4ec4-facd-73e5be0036fc"
      },
      "execution_count": null,
      "outputs": [
        {
          "output_type": "stream",
          "name": "stderr",
          "text": [
            "/usr/local/lib/python3.10/dist-packages/sklearn/datasets/_openml.py:320: UserWarning: Multiple active versions of the dataset matching the name car exist. Versions may be fundamentally different, returning version 2. Available versions:\n",
            "- version 2, status: active\n",
            "  url: https://www.openml.org/search?type=data&id=991\n",
            "- version 3, status: active\n",
            "  url: https://www.openml.org/search?type=data&id=40975\n",
            "\n",
            "  warn(warning_msg)\n"
          ]
        },
        {
          "output_type": "execute_result",
          "data": {
            "text/plain": [
              "{'data':      buying  maint  doors persons lug_boot safety\n",
              " 0     vhigh  vhigh      2       2    small    low\n",
              " 1     vhigh  vhigh      2       2    small    med\n",
              " 2     vhigh  vhigh      2       2    small   high\n",
              " 3     vhigh  vhigh      2       2      med    low\n",
              " 4     vhigh  vhigh      2       2      med    med\n",
              " ...     ...    ...    ...     ...      ...    ...\n",
              " 1723    low    low  5more    more      med    med\n",
              " 1724    low    low  5more    more      med   high\n",
              " 1725    low    low  5more    more      big    low\n",
              " 1726    low    low  5more    more      big    med\n",
              " 1727    low    low  5more    more      big   high\n",
              " \n",
              " [1728 rows x 6 columns],\n",
              " 'target': 0       P\n",
              " 1       P\n",
              " 2       P\n",
              " 3       P\n",
              " 4       P\n",
              "        ..\n",
              " 1723    N\n",
              " 1724    N\n",
              " 1725    P\n",
              " 1726    N\n",
              " 1727    N\n",
              " Name: binaryClass, Length: 1728, dtype: category\n",
              " Categories (2, object): ['N', 'P'],\n",
              " 'frame':      buying  maint  doors persons lug_boot safety binaryClass\n",
              " 0     vhigh  vhigh      2       2    small    low           P\n",
              " 1     vhigh  vhigh      2       2    small    med           P\n",
              " 2     vhigh  vhigh      2       2    small   high           P\n",
              " 3     vhigh  vhigh      2       2      med    low           P\n",
              " 4     vhigh  vhigh      2       2      med    med           P\n",
              " ...     ...    ...    ...     ...      ...    ...         ...\n",
              " 1723    low    low  5more    more      med    med           N\n",
              " 1724    low    low  5more    more      med   high           N\n",
              " 1725    low    low  5more    more      big    low           P\n",
              " 1726    low    low  5more    more      big    med           N\n",
              " 1727    low    low  5more    more      big   high           N\n",
              " \n",
              " [1728 rows x 7 columns],\n",
              " 'categories': None,\n",
              " 'feature_names': ['buying',\n",
              "  'maint',\n",
              "  'doors',\n",
              "  'persons',\n",
              "  'lug_boot',\n",
              "  'safety'],\n",
              " 'target_names': ['binaryClass'],\n",
              " 'DESCR': \"**Author**:   \\n**Source**: Unknown - Date unknown  \\n**Please cite**:   \\n\\nBinarized version of the original data set (see version 1). The multi-class target feature is converted to a two-class nominal target feature by re-labeling the majority class as positive ('P') and all others as negative ('N'). Originally converted by Quan Sun.\\n\\nDownloaded from openml.org.\",\n",
              " 'details': {'id': '991',\n",
              "  'name': 'car',\n",
              "  'version': '2',\n",
              "  'description_version': '1',\n",
              "  'format': 'ARFF',\n",
              "  'upload_date': '2014-10-04T22:44:31',\n",
              "  'licence': 'Public',\n",
              "  'url': 'https://api.openml.org/data/v1/download/53525/car.arff',\n",
              "  'parquet_url': 'https://openml1.win.tue.nl/datasets/0000/0991/dataset_991.pq',\n",
              "  'file_id': '53525',\n",
              "  'default_target_attribute': 'binaryClass',\n",
              "  'tag': ['Chemistry',\n",
              "   'derived',\n",
              "   'Life Science',\n",
              "   'mythbusting_1',\n",
              "   'study_1',\n",
              "   'study_15',\n",
              "   'study_20',\n",
              "   'study_41',\n",
              "   'study_7'],\n",
              "  'visibility': 'public',\n",
              "  'minio_url': 'https://openml1.win.tue.nl/datasets/0000/0991/dataset_991.pq',\n",
              "  'status': 'active',\n",
              "  'processing_date': '2020-11-20 20:17:54',\n",
              "  'md5_checksum': '49c57b793eef1b8e55f297e5e019fdbf'},\n",
              " 'url': 'https://www.openml.org/d/991'}"
            ]
          },
          "metadata": {},
          "execution_count": 55
        }
      ]
    },
    {
      "cell_type": "code",
      "source": [
        "fetch_openml(data_id=5)"
      ],
      "metadata": {
        "colab": {
          "base_uri": "https://localhost:8080/"
        },
        "id": "rhVXk0lbkq2l",
        "outputId": "25552a0c-1a3d-478f-fb79-37d0595b7b32"
      },
      "execution_count": null,
      "outputs": [
        {
          "output_type": "execute_result",
          "data": {
            "text/plain": [
              "{'data':      age sex  height  weight  QRSduration  PRinterval  Q-Tinterval  Tinterval  \\\n",
              " 0     75   0     190      80           91         193          371        174   \n",
              " 1     56   1     165      64           81         174          401        149   \n",
              " 2     54   0     172      95          138         163          386        185   \n",
              " 3     55   0     175      94          100         202          380        179   \n",
              " 4     75   0     190      80           88         181          360        177   \n",
              " ..   ...  ..     ...     ...          ...         ...          ...        ...   \n",
              " 447   53   1     160      70           80         199          382        154   \n",
              " 448   37   0     190      85          100         137          361        201   \n",
              " 449   36   0     166      68          108         176          365        194   \n",
              " 450   32   1     155      55           93         106          386        218   \n",
              " 451   78   1     160      70           79         127          364        138   \n",
              " \n",
              "      Pinterval  QRS  ...  chV6_JJwaveAmp  chV6_QwaveAmp  chV6_RwaveAmp  \\\n",
              " 0          121  -16  ...            -0.3            0.0            9.0   \n",
              " 1           39   25  ...            -0.5            0.0            8.5   \n",
              " 2          102   96  ...             0.9            0.0            9.5   \n",
              " 3          143   28  ...             0.1            0.0           12.2   \n",
              " 4          103  -16  ...            -0.4            0.0           13.1   \n",
              " ..         ...  ...  ...             ...            ...            ...   \n",
              " 447        117  -37  ...             0.0            0.0            4.3   \n",
              " 448         73   86  ...            -0.5            0.0           15.6   \n",
              " 449        116  -85  ...             1.2            0.0           16.3   \n",
              " 450         63   54  ...             0.2           -0.4           12.0   \n",
              " 451         78   28  ...            -0.3            0.0           10.4   \n",
              " \n",
              "      chV6_SwaveAmp  chV6_RPwaveAmp  chV6_SPwaveAmp  chV6_PwaveAmp  \\\n",
              " 0             -0.9             0.0             0.0            0.9   \n",
              " 1              0.0             0.0             0.0            0.2   \n",
              " 2             -2.4             0.0             0.0            0.3   \n",
              " 3             -2.2             0.0             0.0            0.4   \n",
              " 4             -3.6             0.0             0.0           -0.1   \n",
              " ..             ...             ...             ...            ...   \n",
              " 447           -5.0             0.0             0.0            0.7   \n",
              " 448           -1.6             0.0             0.0            0.4   \n",
              " 449          -28.6             0.0             0.0            1.5   \n",
              " 450           -0.7             0.0             0.0            0.5   \n",
              " 451           -1.8             0.0             0.0            0.5   \n",
              " \n",
              "      chV6_TwaveAmp  chV6_QRSA  chV6_QRSTA  \n",
              " 0              2.9       23.3        49.4  \n",
              " 1              2.1       20.4        38.8  \n",
              " 2              3.4       12.3        49.0  \n",
              " 3              2.6       34.6        61.6  \n",
              " 4              3.9       25.4        62.8  \n",
              " ..             ...        ...         ...  \n",
              " 447            0.6       -4.4        -0.5  \n",
              " 448            2.4       38.0        62.4  \n",
              " 449            1.0      -44.2       -33.2  \n",
              " 450            2.4       25.0        46.6  \n",
              " 451            1.6       21.3        32.8  \n",
              " \n",
              " [452 rows x 279 columns],\n",
              " 'target': 0       8\n",
              " 1       6\n",
              " 2      10\n",
              " 3       1\n",
              " 4       7\n",
              "        ..\n",
              " 447     1\n",
              " 448    10\n",
              " 449     2\n",
              " 450     1\n",
              " 451     1\n",
              " Name: class, Length: 452, dtype: category\n",
              " Categories (13, object): ['1', '10', '14', '15', ..., '6', '7', '8', '9'],\n",
              " 'frame':      age sex  height  weight  QRSduration  PRinterval  Q-Tinterval  Tinterval  \\\n",
              " 0     75   0     190      80           91         193          371        174   \n",
              " 1     56   1     165      64           81         174          401        149   \n",
              " 2     54   0     172      95          138         163          386        185   \n",
              " 3     55   0     175      94          100         202          380        179   \n",
              " 4     75   0     190      80           88         181          360        177   \n",
              " ..   ...  ..     ...     ...          ...         ...          ...        ...   \n",
              " 447   53   1     160      70           80         199          382        154   \n",
              " 448   37   0     190      85          100         137          361        201   \n",
              " 449   36   0     166      68          108         176          365        194   \n",
              " 450   32   1     155      55           93         106          386        218   \n",
              " 451   78   1     160      70           79         127          364        138   \n",
              " \n",
              "      Pinterval  QRS  ...  chV6_QwaveAmp  chV6_RwaveAmp  chV6_SwaveAmp  \\\n",
              " 0          121  -16  ...            0.0            9.0           -0.9   \n",
              " 1           39   25  ...            0.0            8.5            0.0   \n",
              " 2          102   96  ...            0.0            9.5           -2.4   \n",
              " 3          143   28  ...            0.0           12.2           -2.2   \n",
              " 4          103  -16  ...            0.0           13.1           -3.6   \n",
              " ..         ...  ...  ...            ...            ...            ...   \n",
              " 447        117  -37  ...            0.0            4.3           -5.0   \n",
              " 448         73   86  ...            0.0           15.6           -1.6   \n",
              " 449        116  -85  ...            0.0           16.3          -28.6   \n",
              " 450         63   54  ...           -0.4           12.0           -0.7   \n",
              " 451         78   28  ...            0.0           10.4           -1.8   \n",
              " \n",
              "      chV6_RPwaveAmp  chV6_SPwaveAmp  chV6_PwaveAmp  chV6_TwaveAmp  chV6_QRSA  \\\n",
              " 0               0.0             0.0            0.9            2.9       23.3   \n",
              " 1               0.0             0.0            0.2            2.1       20.4   \n",
              " 2               0.0             0.0            0.3            3.4       12.3   \n",
              " 3               0.0             0.0            0.4            2.6       34.6   \n",
              " 4               0.0             0.0           -0.1            3.9       25.4   \n",
              " ..              ...             ...            ...            ...        ...   \n",
              " 447             0.0             0.0            0.7            0.6       -4.4   \n",
              " 448             0.0             0.0            0.4            2.4       38.0   \n",
              " 449             0.0             0.0            1.5            1.0      -44.2   \n",
              " 450             0.0             0.0            0.5            2.4       25.0   \n",
              " 451             0.0             0.0            0.5            1.6       21.3   \n",
              " \n",
              "      chV6_QRSTA  class  \n",
              " 0          49.4      8  \n",
              " 1          38.8      6  \n",
              " 2          49.0     10  \n",
              " 3          61.6      1  \n",
              " 4          62.8      7  \n",
              " ..          ...    ...  \n",
              " 447        -0.5      1  \n",
              " 448        62.4     10  \n",
              " 449       -33.2      2  \n",
              " 450        46.6      1  \n",
              " 451        32.8      1  \n",
              " \n",
              " [452 rows x 280 columns],\n",
              " 'categories': None,\n",
              " 'feature_names': ['age',\n",
              "  'sex',\n",
              "  'height',\n",
              "  'weight',\n",
              "  'QRSduration',\n",
              "  'PRinterval',\n",
              "  'Q-Tinterval',\n",
              "  'Tinterval',\n",
              "  'Pinterval',\n",
              "  'QRS',\n",
              "  'T',\n",
              "  'P',\n",
              "  'QRST',\n",
              "  'J',\n",
              "  'heartrate',\n",
              "  'chDI_Qwave',\n",
              "  'chDI_Rwave',\n",
              "  'chDI_Swave',\n",
              "  'chDI_RPwave',\n",
              "  'chDI_SPwave',\n",
              "  'chDI_intrinsicReflecttions',\n",
              "  'chDI_RRwaveExists',\n",
              "  'chDI_DD_RRwaveExists',\n",
              "  'chDI_RPwaveExists',\n",
              "  'chDI_DD_RPwaveExists',\n",
              "  'chDI_RTwaveExists',\n",
              "  'chDI_DD_RTwaveExists',\n",
              "  'chDII_Qwave',\n",
              "  'chDII_Rwave',\n",
              "  'chDII_Swave',\n",
              "  'chDII_RPwave',\n",
              "  'chDII_SPwave',\n",
              "  'chDII_intrinsicReflecttions',\n",
              "  'chDII_RRwaveExists',\n",
              "  'chDII_DD_RRwaveExists',\n",
              "  'chDII_RPwaveExists',\n",
              "  'chDII_DD_RPwaveExists',\n",
              "  'chDII_RTwaveExists',\n",
              "  'chDII_DD_RTwaveExists',\n",
              "  'chDIII_Qwave',\n",
              "  'chDIII_Rwave',\n",
              "  'chDIII_Swave',\n",
              "  'chDIII_RPwave',\n",
              "  'chDIII_SPwave',\n",
              "  'chDIII_intrinsicReflecttions',\n",
              "  'chDIII_RRwaveExists',\n",
              "  'chDIII_DD_RRwaveExists',\n",
              "  'chDIII_RPwaveExists',\n",
              "  'chDIII_DD_RPwaveExists',\n",
              "  'chDIII_RTwaveExists',\n",
              "  'chDIII_DD_RTwaveExists',\n",
              "  'chAVR_Qwave',\n",
              "  'chAVR_Rwave',\n",
              "  'chAVR_Swave',\n",
              "  'chAVR_RPwave',\n",
              "  'chAVR_SPwave',\n",
              "  'chAVR_intrinsicReflecttions',\n",
              "  'chAVR_RRwaveExists',\n",
              "  'chAVR_DD_RRwaveExists',\n",
              "  'chAVR_RPwaveExists',\n",
              "  'chAVR_DD_RPwaveExists',\n",
              "  'chAVR_RTwaveExists',\n",
              "  'chAVR_DD_RTwaveExists',\n",
              "  'chAVL_Qwave',\n",
              "  'chAVL_Rwave',\n",
              "  'chAVL_Swave',\n",
              "  'chAVL_RPwave',\n",
              "  'chAVL_SPwave',\n",
              "  'chAVL_intrinsicReflecttions',\n",
              "  'chAVL_RRwaveExists',\n",
              "  'chAVL_DD_RRwaveExists',\n",
              "  'chAVL_RPwaveExists',\n",
              "  'chAVL_DD_RPwaveExists',\n",
              "  'chAVL_RTwaveExists',\n",
              "  'chAVL_DD_RTwaveExists',\n",
              "  'chAVF_Qwave',\n",
              "  'chAVF_Rwave',\n",
              "  'chAVF_Swave',\n",
              "  'chAVF_RPwave',\n",
              "  'chAVF_SPwave',\n",
              "  'chAVF_intrinsicReflecttions',\n",
              "  'chAVF_RRwaveExists',\n",
              "  'chAVF_DD_RRwaveExists',\n",
              "  'chAVF_RPwaveExists',\n",
              "  'chAVF_DD_RPwaveExists',\n",
              "  'chAVF_RTwaveExists',\n",
              "  'chAVF_DD_RTwaveExists',\n",
              "  'chV1_Qwave',\n",
              "  'chV1_Rwave',\n",
              "  'chV1_Swave',\n",
              "  'chV1_RPwave',\n",
              "  'chV1_SPwave',\n",
              "  'chV1_intrinsicReflecttions',\n",
              "  'chV1_RRwaveExists',\n",
              "  'chV1_DD_RRwaveExists',\n",
              "  'chV1_RPwaveExists',\n",
              "  'chV1_DD_RPwaveExists',\n",
              "  'chV1_RTwaveExists',\n",
              "  'chV1_DD_RTwaveExists',\n",
              "  'chV2_Qwave',\n",
              "  'chV2_Rwave',\n",
              "  'chV2_Swave',\n",
              "  'chV2_RPwave',\n",
              "  'chV2_SPwave',\n",
              "  'chV2_intrinsicReflecttions',\n",
              "  'chV2_RRwaveExists',\n",
              "  'chV2_DD_RRwaveExists',\n",
              "  'chV2_RPwaveExists',\n",
              "  'chV2_DD_RPwaveExists',\n",
              "  'chV2_RTwaveExists',\n",
              "  'chV2_DD_RTwaveExists',\n",
              "  'chV3_Qwave',\n",
              "  'chV3_Rwave',\n",
              "  'chV3_Swave',\n",
              "  'chV3_RPwave',\n",
              "  'chV3_SPwave',\n",
              "  'chV3_intrinsicReflecttions',\n",
              "  'chV3_RRwaveExists',\n",
              "  'chV3_DD_RRwaveExists',\n",
              "  'chV3_RPwaveExists',\n",
              "  'chV3_DD_RPwaveExists',\n",
              "  'chV3_RTwaveExists',\n",
              "  'chV3_DD_RTwaveExists',\n",
              "  'chV4_Qwave',\n",
              "  'chV4_Rwave',\n",
              "  'chV4_Swave',\n",
              "  'chV4_RPwave',\n",
              "  'chV4_SPwave',\n",
              "  'chV4_intrinsicReflecttions',\n",
              "  'chV4_RRwaveExists',\n",
              "  'chV4_DD_RRwaveExists',\n",
              "  'chV4_RPwaveExists',\n",
              "  'chV4_DD_RPwaveExists',\n",
              "  'chV4_RTwaveExists',\n",
              "  'chV4_DD_RTwaveExists',\n",
              "  'chV5_Qwave',\n",
              "  'chV5_Rwave',\n",
              "  'chV5_Swave',\n",
              "  'chV5_RPwave',\n",
              "  'chV5_SPwave',\n",
              "  'chV5_intrinsicReflecttions',\n",
              "  'chV5_RRwaveExists',\n",
              "  'chV5_DD_RRwaveExists',\n",
              "  'chV5_RPwaveExists',\n",
              "  'chV5_DD_RPwaveExists',\n",
              "  'chV5_RTwaveExists',\n",
              "  'chV5_DD_RTwaveExists',\n",
              "  'chV6_Qwave',\n",
              "  'chV6_Rwave',\n",
              "  'chV6_Swave',\n",
              "  'chV6_RPwave',\n",
              "  'chV6_SPwave',\n",
              "  'chV6_intrinsicReflecttions',\n",
              "  'chV6_RRwaveExists',\n",
              "  'chV6_DD_RRwaveExists',\n",
              "  'chV6_RPwaveExists',\n",
              "  'chV6_DD_RPwaveExists',\n",
              "  'chV6_RTwaveExists',\n",
              "  'chV6_DD_RTwaveExists',\n",
              "  'chDI_JJwaveAmp',\n",
              "  'chDI_QwaveAmp',\n",
              "  'chDI_RwaveAmp',\n",
              "  'chDI_SwaveAmp',\n",
              "  'chDI_RPwaveAmp',\n",
              "  'chDI_SPwaveAmp',\n",
              "  'chDI_PwaveAmp',\n",
              "  'chDI_TwaveAmp',\n",
              "  'chDI_QRSA',\n",
              "  'chDI_QRSTA',\n",
              "  'chDII_JJwaveAmp',\n",
              "  'chDII_QwaveAmp',\n",
              "  'chDII_RwaveAmp',\n",
              "  'chDII_SwaveAmp',\n",
              "  'chDII_RPwaveAmp',\n",
              "  'chDII_SPwaveAmp',\n",
              "  'chDII_PwaveAmp',\n",
              "  'chDII_TwaveAmp',\n",
              "  'chDII_QRSA',\n",
              "  'chDII_QRSTA',\n",
              "  'chDIII_JJwaveAmp',\n",
              "  'chDIII_QwaveAmp',\n",
              "  'chDIII_RwaveAmp',\n",
              "  'chDIII_SwaveAmp',\n",
              "  'chDIII_RPwaveAmp',\n",
              "  'chDIII_SPwaveAmp',\n",
              "  'chDIII_PwaveAmp',\n",
              "  'chDIII_TwaveAmp',\n",
              "  'chDIII_QRSA',\n",
              "  'chDIII_QRSTA',\n",
              "  'chAVR_JJwaveAmp',\n",
              "  'chAVR_QwaveAmp',\n",
              "  'chAVR_RwaveAmp',\n",
              "  'chAVR_SwaveAmp',\n",
              "  'chAVR_RPwaveAmp',\n",
              "  'chAVR_SPwaveAmp',\n",
              "  'chAVR_PwaveAmp',\n",
              "  'chAVR_TwaveAmp',\n",
              "  'chAVR_QRSA',\n",
              "  'chAVR_QRSTA',\n",
              "  'chAVL_JJwaveAmp',\n",
              "  'chAVL_QwaveAmp',\n",
              "  'chAVL_RwaveAmp',\n",
              "  'chAVL_SwaveAmp',\n",
              "  'chAVL_RPwaveAmp',\n",
              "  'chAVL_SPwaveAmp',\n",
              "  'chAVL_PwaveAmp',\n",
              "  'chAVL_TwaveAmp',\n",
              "  'chAVL_QRSA',\n",
              "  'chAVL_QRSTA',\n",
              "  'chAVF_JJwaveAmp',\n",
              "  'chAVF_QwaveAmp',\n",
              "  'chAVF_RwaveAmp',\n",
              "  'chAVF_SwaveAmp',\n",
              "  'chAVF_RPwaveAmp',\n",
              "  'chAVF_SPwaveAmp',\n",
              "  'chAVF_PwaveAmp',\n",
              "  'chAVF_TwaveAmp',\n",
              "  'chAVF_QRSA',\n",
              "  'chAVF_QRSTA',\n",
              "  'chV1_JJwaveAmp',\n",
              "  'chV1_QwaveAmp',\n",
              "  'chV1_RwaveAmp',\n",
              "  'chV1_SwaveAmp',\n",
              "  'chV1_RPwaveAmp',\n",
              "  'chV1_SPwaveAmp',\n",
              "  'chV1_PwaveAmp',\n",
              "  'chV1_TwaveAmp',\n",
              "  'chV1_QRSA',\n",
              "  'chV1_QRSTA',\n",
              "  'chV2_JJwaveAmp',\n",
              "  'chV2_QwaveAmp',\n",
              "  'chV2_RwaveAmp',\n",
              "  'chV2_SwaveAmp',\n",
              "  'chV2_RPwaveAmp',\n",
              "  'chV2_SPwaveAmp',\n",
              "  'chV2_PwaveAmp',\n",
              "  'chV2_TwaveAmp',\n",
              "  'chV2_QRSA',\n",
              "  'chV2_QRSTA',\n",
              "  'chV3_JJwaveAmp',\n",
              "  'chV3_QwaveAmp',\n",
              "  'chV3_RwaveAmp',\n",
              "  'chV3_SwaveAmp',\n",
              "  'chV3_RPwaveAmp',\n",
              "  'chV3_SPwaveAmp',\n",
              "  'chV3_PwaveAmp',\n",
              "  'chV3_TwaveAmp',\n",
              "  'chV3_QRSA',\n",
              "  'chV3_QRSTA',\n",
              "  'chV4_JJwaveAmp',\n",
              "  'chV4_QwaveAmp',\n",
              "  'chV4_RwaveAmp',\n",
              "  'chV4_SwaveAmp',\n",
              "  'chV4_RPwaveAmp',\n",
              "  'chV4_SPwaveAmp',\n",
              "  'chV4_PwaveAmp',\n",
              "  'chV4_TwaveAmp',\n",
              "  'chV4_QRSA',\n",
              "  'chV4_QRSTA',\n",
              "  'chV5_JJwaveAmp',\n",
              "  'chV5_QwaveAmp',\n",
              "  'chV5_RwaveAmp',\n",
              "  'chV5_SwaveAmp',\n",
              "  'chV5_RPwaveAmp',\n",
              "  'chV5_SPwaveAmp',\n",
              "  'chV5_PwaveAmp',\n",
              "  'chV5_TwaveAmp',\n",
              "  'chV5_QRSA',\n",
              "  'chV5_QRSTA',\n",
              "  'chV6_JJwaveAmp',\n",
              "  'chV6_QwaveAmp',\n",
              "  'chV6_RwaveAmp',\n",
              "  'chV6_SwaveAmp',\n",
              "  'chV6_RPwaveAmp',\n",
              "  'chV6_SPwaveAmp',\n",
              "  'chV6_PwaveAmp',\n",
              "  'chV6_TwaveAmp',\n",
              "  'chV6_QRSA',\n",
              "  'chV6_QRSTA'],\n",
              " 'target_names': ['class'],\n",
              " 'DESCR': '**Author**: H. Altay Guvenir, Burak Acar, Haldun Muderrisoglu  \\n**Source**: [UCI](https://archive.ics.uci.edu/ml/datasets/arrhythmia)   \\n**Please cite**: [UCI](https://archive.ics.uci.edu/ml/citation_policy.html)\\n\\n**Cardiac Arrhythmia Database**  \\nThe aim is to determine the type of arrhythmia from the ECG recordings. This database contains 279 attributes, 206 of which are linear valued and the rest are nominal. \\n\\nConcerning the study of H. Altay Guvenir: \"The aim is to distinguish between the presence and absence of cardiac arrhythmia and to classify it in one of the 16 groups. Class 01 refers to \\'normal\\' ECG classes, 02 to 15 refers to different classes of arrhythmia and class 16 refers to the rest of unclassified ones. For the time being, there exists a computer program that makes such a classification. However, there are differences between the cardiologist\\'s and the program\\'s classification. Taking the cardiologist\\'s as a gold standard we aim to minimize this difference by means of machine learning tools.\\n \\nThe names and id numbers of the patients were recently removed from the database.\\n \\n### Attribute Information  \\n \\n       1 Age: Age in years , linear\\n       2 Sex: Sex (0 = male; 1 = female) , nominal\\n       3 Height: Height in centimeters , linear\\n       4 Weight: Weight in kilograms , linear\\n       5 QRS duration: Average of QRS duration in msec., linear\\n       6 P-R interval: Average duration between onset of P and Q waves\\n         in msec., linear\\n       7 Q-T interval: Average duration between onset of Q and offset\\n         of T waves in msec., linear\\n       8 T interval: Average duration of T wave in msec., linear\\n       9 P interval: Average duration of P wave in msec., linear\\n      Vector angles in degrees on front plane of:, linear\\n      10 QRS\\n      11 T\\n      12 P\\n      13 QRST\\n      14 J\\n      15 Heart rate: Number of heart beats per minute ,linear\\n      Of channel DI:\\n       Average width, in msec., of: linear\\n       16 Q wave\\n       17 R wave\\n       18 S wave\\n       19 R\\' wave, small peak just after R\\n       20 S\\' wave\\n       21 Number of intrinsic deflections, linear\\n       22 Existence of ragged R wave, nominal\\n       23 Existence of diphasic derivation of R wave, nominal\\n       24 Existence of ragged P wave, nominal\\n       25 Existence of diphasic derivation of P wave, nominal\\n       26 Existence of ragged T wave, nominal\\n       27 Existence of diphasic derivation of T wave, nominal\\n      Of channel DII: \\n       28 .. 39 (similar to 16 .. 27 of channel DI)\\n      Of channels DIII:\\n       40 .. 51\\n      Of channel AVR:\\n       52 .. 63\\n      Of channel AVL:\\n       64 .. 75\\n      Of channel AVF:\\n       76 .. 87\\n      Of channel V1:\\n       88 .. 99\\n      Of channel V2:\\n       100 .. 111\\n      Of channel V3:\\n       112 .. 123\\n      Of channel V4:\\n       124 .. 135\\n      Of channel V5:\\n       136 .. 147\\n      Of channel V6:\\n       148 .. 159\\n      Of channel DI:\\n       Amplitude , * 0.1 milivolt, of\\n       160 JJ wave, linear\\n       161 Q wave, linear\\n       162 R wave, linear\\n       163 S wave, linear\\n       164 R\\' wave, linear\\n       165 S\\' wave, linear\\n       166 P wave, linear\\n       167 T wave, linear\\n       168 QRSA , Sum of areas of all segments divided by 10,\\n           ( Area= width * height / 2 ), linear\\n       169 QRSTA = QRSA + 0.5 * width of T wave * 0.1 * height of T\\n           wave. (If T is diphasic then the bigger segment is\\n           considered), linear\\n      Of channel DII:\\n       170 .. 179\\n      Of channel DIII:\\n       180 .. 189\\n      Of channel AVR:\\n       190 .. 199\\n      Of channel AVL:\\n       200 .. 209\\n      Of channel AVF:\\n       210 .. 219\\n      Of channel V1:\\n       220 .. 229\\n      Of channel V2:\\n       230 .. 239\\n      Of channel V3:\\n       240 .. 249\\n      Of channel V4:\\n       250 .. 259\\n      Of channel V5:\\n       260 .. 269\\n      Of channel V6:\\n       270 .. 279\\n        \\nClass code - class - number of instances:\\n> \\n        01             Normal                245\\n        02             Ischemic changes (Coronary Artery Disease)   44\\n        03             Old Anterior Myocardial Infarction           15\\n        04             Old Inferior Myocardial Infarction           15\\n        05             Sinus tachycardy        13\\n        06             Sinus bradycardy        25\\n        07             Ventricular Premature Contraction (PVC)       3\\n        08             Supraventricular Premature Contraction       2\\n        09             Left bundle branch block         9 \\n        10             Right bundle branch block       50\\n        11             1. degree AtrioVentricular block       0 \\n        12             2. degree AV block                0\\n        13             3. degree AV block                0\\n        14             Left ventricule hypertrophy                4\\n        15             Atrial Fibrillation or Flutter               5\\n        16             Others                 22\\n\\nDownloaded from openml.org.',\n",
              " 'details': {'id': '5',\n",
              "  'name': 'arrhythmia',\n",
              "  'version': '1',\n",
              "  'description_version': '2',\n",
              "  'format': 'ARFF',\n",
              "  'creator': ['H. Altay Guvenir', 'Burak Acar', 'Haldun Muderrisoglu'],\n",
              "  'collection_date': '1998-01-01',\n",
              "  'upload_date': '2014-04-06T23:19:36',\n",
              "  'licence': 'Public',\n",
              "  'url': 'https://api.openml.org/data/v1/download/5/arrhythmia.arff',\n",
              "  'parquet_url': 'https://openml1.win.tue.nl/datasets/0000/0005/dataset_5.pq',\n",
              "  'file_id': '5',\n",
              "  'default_target_attribute': 'class',\n",
              "  'version_label': '1',\n",
              "  'citation': 'https://archive.ics.uci.edu/ml/citation_policy.html',\n",
              "  'tag': ['Machine Learning',\n",
              "   'Medicine',\n",
              "   'sport',\n",
              "   'study_1',\n",
              "   'study_41',\n",
              "   'study_76',\n",
              "   'study_93',\n",
              "   'uci'],\n",
              "  'visibility': 'public',\n",
              "  'original_data_url': 'https://archive.ics.uci.edu/ml/datasets/arrhythmia',\n",
              "  'minio_url': 'https://openml1.win.tue.nl/datasets/0000/0005/dataset_5.pq',\n",
              "  'status': 'active',\n",
              "  'processing_date': '2020-11-20 19:32:17',\n",
              "  'md5_checksum': '16b2e6fb5105155638cde38b2d117fac'},\n",
              " 'url': 'https://www.openml.org/d/5'}"
            ]
          },
          "metadata": {},
          "execution_count": 56
        }
      ]
    },
    {
      "cell_type": "markdown",
      "source": [
        "#Loading the data"
      ],
      "metadata": {
        "id": "-ipMTn3QiJTf"
      }
    },
    {
      "cell_type": "code",
      "source": [
        "from sklearn.datasets import fetch_openml\n",
        "car_data=fetch_openml(name='car',version=2,parser='auto')"
      ],
      "metadata": {
        "id": "0kzJ50o7iL-T"
      },
      "execution_count": null,
      "outputs": []
    },
    {
      "cell_type": "code",
      "source": [
        "type(car_data)"
      ],
      "metadata": {
        "colab": {
          "base_uri": "https://localhost:8080/",
          "height": 186
        },
        "id": "MRLEfvkjiqe6",
        "outputId": "462394b4-5df7-4e49-d8a3-b2a2f8643858"
      },
      "execution_count": null,
      "outputs": [
        {
          "output_type": "execute_result",
          "data": {
            "text/plain": [
              "sklearn.utils._bunch.Bunch"
            ],
            "text/html": [
              "<div style=\"max-width:800px; border: 1px solid var(--colab-border-color);\"><style>\n",
              "      pre.function-repr-contents {\n",
              "        overflow-x: auto;\n",
              "        padding: 8px 12px;\n",
              "        max-height: 500px;\n",
              "      }\n",
              "\n",
              "      pre.function-repr-contents.function-repr-contents-collapsed {\n",
              "        cursor: pointer;\n",
              "        max-height: 100px;\n",
              "      }\n",
              "    </style>\n",
              "    <pre style=\"white-space: initial; background:\n",
              "         var(--colab-secondary-surface-color); padding: 8px 12px;\n",
              "         border-bottom: 1px solid var(--colab-border-color);\"><b>sklearn.utils._bunch.Bunch</b><br/>def __init__(**kwargs)</pre><pre class=\"function-repr-contents function-repr-contents-collapsed\" style=\"\"><a class=\"filepath\" style=\"display:none\" href=\"#\">/usr/local/lib/python3.10/dist-packages/sklearn/utils/_bunch.py</a>Container object exposing keys as attributes.\n",
              "\n",
              "Bunch objects are sometimes used as an output for functions and methods.\n",
              "They extend dictionaries by enabling values to be accessed by key,\n",
              "`bunch[&quot;value_key&quot;]`, or by an attribute, `bunch.value_key`.\n",
              "\n",
              "Examples\n",
              "--------\n",
              "&gt;&gt;&gt; from sklearn.utils import Bunch\n",
              "&gt;&gt;&gt; b = Bunch(a=1, b=2)\n",
              "&gt;&gt;&gt; b[&#x27;b&#x27;]\n",
              "2\n",
              "&gt;&gt;&gt; b.b\n",
              "2\n",
              "&gt;&gt;&gt; b.a = 3\n",
              "&gt;&gt;&gt; b[&#x27;a&#x27;]\n",
              "3\n",
              "&gt;&gt;&gt; b.c = 6\n",
              "&gt;&gt;&gt; b[&#x27;c&#x27;]\n",
              "6</pre>\n",
              "      <script>\n",
              "      if (google.colab.kernel.accessAllowed && google.colab.files && google.colab.files.view) {\n",
              "        for (const element of document.querySelectorAll('.filepath')) {\n",
              "          element.style.display = 'block'\n",
              "          element.onclick = (event) => {\n",
              "            event.preventDefault();\n",
              "            event.stopPropagation();\n",
              "            google.colab.files.view(element.textContent, 4);\n",
              "          };\n",
              "        }\n",
              "      }\n",
              "      for (const element of document.querySelectorAll('.function-repr-contents')) {\n",
              "        element.onclick = (event) => {\n",
              "          event.preventDefault();\n",
              "          event.stopPropagation();\n",
              "          element.classList.toggle('function-repr-contents-collapsed');\n",
              "        };\n",
              "      }\n",
              "      </script>\n",
              "      </div>"
            ]
          },
          "metadata": {},
          "execution_count": 58
        }
      ]
    },
    {
      "cell_type": "code",
      "source": [
        "car_data.details"
      ],
      "metadata": {
        "colab": {
          "base_uri": "https://localhost:8080/"
        },
        "id": "1no-yfGQk2vL",
        "outputId": "58826592-4af7-4b25-87e6-380c95e9413e"
      },
      "execution_count": null,
      "outputs": [
        {
          "output_type": "execute_result",
          "data": {
            "text/plain": [
              "{'id': '991',\n",
              " 'name': 'car',\n",
              " 'version': '2',\n",
              " 'description_version': '1',\n",
              " 'format': 'ARFF',\n",
              " 'upload_date': '2014-10-04T22:44:31',\n",
              " 'licence': 'Public',\n",
              " 'url': 'https://api.openml.org/data/v1/download/53525/car.arff',\n",
              " 'parquet_url': 'https://openml1.win.tue.nl/datasets/0000/0991/dataset_991.pq',\n",
              " 'file_id': '53525',\n",
              " 'default_target_attribute': 'binaryClass',\n",
              " 'tag': ['Chemistry',\n",
              "  'derived',\n",
              "  'Life Science',\n",
              "  'mythbusting_1',\n",
              "  'study_1',\n",
              "  'study_15',\n",
              "  'study_20',\n",
              "  'study_41',\n",
              "  'study_7'],\n",
              " 'visibility': 'public',\n",
              " 'minio_url': 'https://openml1.win.tue.nl/datasets/0000/0991/dataset_991.pq',\n",
              " 'status': 'active',\n",
              " 'processing_date': '2020-11-20 20:17:54',\n",
              " 'md5_checksum': '49c57b793eef1b8e55f297e5e019fdbf'}"
            ]
          },
          "metadata": {},
          "execution_count": 59
        }
      ]
    },
    {
      "cell_type": "code",
      "source": [
        "car_data.keys()"
      ],
      "metadata": {
        "colab": {
          "base_uri": "https://localhost:8080/"
        },
        "id": "I7mDiUEdlHqP",
        "outputId": "fa88627a-8bdf-4e13-fa1c-28036a909eef"
      },
      "execution_count": null,
      "outputs": [
        {
          "output_type": "execute_result",
          "data": {
            "text/plain": [
              "dict_keys(['data', 'target', 'frame', 'categories', 'feature_names', 'target_names', 'DESCR', 'details', 'url'])"
            ]
          },
          "metadata": {},
          "execution_count": 60
        }
      ]
    },
    {
      "cell_type": "code",
      "source": [
        "car_data.details['version']"
      ],
      "metadata": {
        "colab": {
          "base_uri": "https://localhost:8080/",
          "height": 36
        },
        "id": "YDuhc73blN5E",
        "outputId": "44751a7a-fc68-40ef-9f50-5fe19b48fef2"
      },
      "execution_count": null,
      "outputs": [
        {
          "output_type": "execute_result",
          "data": {
            "text/plain": [
              "'2'"
            ],
            "application/vnd.google.colaboratory.intrinsic+json": {
              "type": "string"
            }
          },
          "metadata": {},
          "execution_count": 61
        }
      ]
    },
    {
      "cell_type": "code",
      "source": [
        "car_data.feature_names,car_data.target,car_data.categories"
      ],
      "metadata": {
        "colab": {
          "base_uri": "https://localhost:8080/"
        },
        "id": "4mrSHYQulSRn",
        "outputId": "af9f4226-2e42-4b27-fbfd-c39d81c830d2"
      },
      "execution_count": null,
      "outputs": [
        {
          "output_type": "execute_result",
          "data": {
            "text/plain": [
              "(['buying', 'maint', 'doors', 'persons', 'lug_boot', 'safety'],\n",
              " 0       P\n",
              " 1       P\n",
              " 2       P\n",
              " 3       P\n",
              " 4       P\n",
              "        ..\n",
              " 1723    N\n",
              " 1724    N\n",
              " 1725    P\n",
              " 1726    N\n",
              " 1727    N\n",
              " Name: binaryClass, Length: 1728, dtype: category\n",
              " Categories (2, object): ['N', 'P'],\n",
              " None)"
            ]
          },
          "metadata": {},
          "execution_count": 62
        }
      ]
    },
    {
      "cell_type": "code",
      "source": [
        "car_data.target.value_counts()"
      ],
      "metadata": {
        "colab": {
          "base_uri": "https://localhost:8080/",
          "height": 178
        },
        "id": "vJJf7tmtl1_a",
        "outputId": "7ab12181-090a-4027-948b-5788e0fb8433"
      },
      "execution_count": null,
      "outputs": [
        {
          "output_type": "execute_result",
          "data": {
            "text/plain": [
              "binaryClass\n",
              "P    1210\n",
              "N     518\n",
              "Name: count, dtype: int64"
            ],
            "text/html": [
              "<div>\n",
              "<style scoped>\n",
              "    .dataframe tbody tr th:only-of-type {\n",
              "        vertical-align: middle;\n",
              "    }\n",
              "\n",
              "    .dataframe tbody tr th {\n",
              "        vertical-align: top;\n",
              "    }\n",
              "\n",
              "    .dataframe thead th {\n",
              "        text-align: right;\n",
              "    }\n",
              "</style>\n",
              "<table border=\"1\" class=\"dataframe\">\n",
              "  <thead>\n",
              "    <tr style=\"text-align: right;\">\n",
              "      <th></th>\n",
              "      <th>count</th>\n",
              "    </tr>\n",
              "    <tr>\n",
              "      <th>binaryClass</th>\n",
              "      <th></th>\n",
              "    </tr>\n",
              "  </thead>\n",
              "  <tbody>\n",
              "    <tr>\n",
              "      <th>P</th>\n",
              "      <td>1210</td>\n",
              "    </tr>\n",
              "    <tr>\n",
              "      <th>N</th>\n",
              "      <td>518</td>\n",
              "    </tr>\n",
              "  </tbody>\n",
              "</table>\n",
              "</div><br><label><b>dtype:</b> int64</label>"
            ]
          },
          "metadata": {},
          "execution_count": 63
        }
      ]
    },
    {
      "cell_type": "code",
      "source": [
        "car_data=car_data.frame\n",
        "car_data.head()"
      ],
      "metadata": {
        "colab": {
          "base_uri": "https://localhost:8080/",
          "height": 206
        },
        "id": "d9s_kny8lhXC",
        "outputId": "96584867-1baf-4f6b-a5b6-3cdceadb0b3a"
      },
      "execution_count": null,
      "outputs": [
        {
          "output_type": "execute_result",
          "data": {
            "text/plain": [
              "  buying  maint doors persons lug_boot safety binaryClass\n",
              "0  vhigh  vhigh     2       2    small    low           P\n",
              "1  vhigh  vhigh     2       2    small    med           P\n",
              "2  vhigh  vhigh     2       2    small   high           P\n",
              "3  vhigh  vhigh     2       2      med    low           P\n",
              "4  vhigh  vhigh     2       2      med    med           P"
            ],
            "text/html": [
              "\n",
              "  <div id=\"df-36b969ad-e4bf-42a3-b9d6-83faafdbecfd\" class=\"colab-df-container\">\n",
              "    <div>\n",
              "<style scoped>\n",
              "    .dataframe tbody tr th:only-of-type {\n",
              "        vertical-align: middle;\n",
              "    }\n",
              "\n",
              "    .dataframe tbody tr th {\n",
              "        vertical-align: top;\n",
              "    }\n",
              "\n",
              "    .dataframe thead th {\n",
              "        text-align: right;\n",
              "    }\n",
              "</style>\n",
              "<table border=\"1\" class=\"dataframe\">\n",
              "  <thead>\n",
              "    <tr style=\"text-align: right;\">\n",
              "      <th></th>\n",
              "      <th>buying</th>\n",
              "      <th>maint</th>\n",
              "      <th>doors</th>\n",
              "      <th>persons</th>\n",
              "      <th>lug_boot</th>\n",
              "      <th>safety</th>\n",
              "      <th>binaryClass</th>\n",
              "    </tr>\n",
              "  </thead>\n",
              "  <tbody>\n",
              "    <tr>\n",
              "      <th>0</th>\n",
              "      <td>vhigh</td>\n",
              "      <td>vhigh</td>\n",
              "      <td>2</td>\n",
              "      <td>2</td>\n",
              "      <td>small</td>\n",
              "      <td>low</td>\n",
              "      <td>P</td>\n",
              "    </tr>\n",
              "    <tr>\n",
              "      <th>1</th>\n",
              "      <td>vhigh</td>\n",
              "      <td>vhigh</td>\n",
              "      <td>2</td>\n",
              "      <td>2</td>\n",
              "      <td>small</td>\n",
              "      <td>med</td>\n",
              "      <td>P</td>\n",
              "    </tr>\n",
              "    <tr>\n",
              "      <th>2</th>\n",
              "      <td>vhigh</td>\n",
              "      <td>vhigh</td>\n",
              "      <td>2</td>\n",
              "      <td>2</td>\n",
              "      <td>small</td>\n",
              "      <td>high</td>\n",
              "      <td>P</td>\n",
              "    </tr>\n",
              "    <tr>\n",
              "      <th>3</th>\n",
              "      <td>vhigh</td>\n",
              "      <td>vhigh</td>\n",
              "      <td>2</td>\n",
              "      <td>2</td>\n",
              "      <td>med</td>\n",
              "      <td>low</td>\n",
              "      <td>P</td>\n",
              "    </tr>\n",
              "    <tr>\n",
              "      <th>4</th>\n",
              "      <td>vhigh</td>\n",
              "      <td>vhigh</td>\n",
              "      <td>2</td>\n",
              "      <td>2</td>\n",
              "      <td>med</td>\n",
              "      <td>med</td>\n",
              "      <td>P</td>\n",
              "    </tr>\n",
              "  </tbody>\n",
              "</table>\n",
              "</div>\n",
              "    <div class=\"colab-df-buttons\">\n",
              "\n",
              "  <div class=\"colab-df-container\">\n",
              "    <button class=\"colab-df-convert\" onclick=\"convertToInteractive('df-36b969ad-e4bf-42a3-b9d6-83faafdbecfd')\"\n",
              "            title=\"Convert this dataframe to an interactive table.\"\n",
              "            style=\"display:none;\">\n",
              "\n",
              "  <svg xmlns=\"http://www.w3.org/2000/svg\" height=\"24px\" viewBox=\"0 -960 960 960\">\n",
              "    <path d=\"M120-120v-720h720v720H120Zm60-500h600v-160H180v160Zm220 220h160v-160H400v160Zm0 220h160v-160H400v160ZM180-400h160v-160H180v160Zm440 0h160v-160H620v160ZM180-180h160v-160H180v160Zm440 0h160v-160H620v160Z\"/>\n",
              "  </svg>\n",
              "    </button>\n",
              "\n",
              "  <style>\n",
              "    .colab-df-container {\n",
              "      display:flex;\n",
              "      gap: 12px;\n",
              "    }\n",
              "\n",
              "    .colab-df-convert {\n",
              "      background-color: #E8F0FE;\n",
              "      border: none;\n",
              "      border-radius: 50%;\n",
              "      cursor: pointer;\n",
              "      display: none;\n",
              "      fill: #1967D2;\n",
              "      height: 32px;\n",
              "      padding: 0 0 0 0;\n",
              "      width: 32px;\n",
              "    }\n",
              "\n",
              "    .colab-df-convert:hover {\n",
              "      background-color: #E2EBFA;\n",
              "      box-shadow: 0px 1px 2px rgba(60, 64, 67, 0.3), 0px 1px 3px 1px rgba(60, 64, 67, 0.15);\n",
              "      fill: #174EA6;\n",
              "    }\n",
              "\n",
              "    .colab-df-buttons div {\n",
              "      margin-bottom: 4px;\n",
              "    }\n",
              "\n",
              "    [theme=dark] .colab-df-convert {\n",
              "      background-color: #3B4455;\n",
              "      fill: #D2E3FC;\n",
              "    }\n",
              "\n",
              "    [theme=dark] .colab-df-convert:hover {\n",
              "      background-color: #434B5C;\n",
              "      box-shadow: 0px 1px 3px 1px rgba(0, 0, 0, 0.15);\n",
              "      filter: drop-shadow(0px 1px 2px rgba(0, 0, 0, 0.3));\n",
              "      fill: #FFFFFF;\n",
              "    }\n",
              "  </style>\n",
              "\n",
              "    <script>\n",
              "      const buttonEl =\n",
              "        document.querySelector('#df-36b969ad-e4bf-42a3-b9d6-83faafdbecfd button.colab-df-convert');\n",
              "      buttonEl.style.display =\n",
              "        google.colab.kernel.accessAllowed ? 'block' : 'none';\n",
              "\n",
              "      async function convertToInteractive(key) {\n",
              "        const element = document.querySelector('#df-36b969ad-e4bf-42a3-b9d6-83faafdbecfd');\n",
              "        const dataTable =\n",
              "          await google.colab.kernel.invokeFunction('convertToInteractive',\n",
              "                                                    [key], {});\n",
              "        if (!dataTable) return;\n",
              "\n",
              "        const docLinkHtml = 'Like what you see? Visit the ' +\n",
              "          '<a target=\"_blank\" href=https://colab.research.google.com/notebooks/data_table.ipynb>data table notebook</a>'\n",
              "          + ' to learn more about interactive tables.';\n",
              "        element.innerHTML = '';\n",
              "        dataTable['output_type'] = 'display_data';\n",
              "        await google.colab.output.renderOutput(dataTable, element);\n",
              "        const docLink = document.createElement('div');\n",
              "        docLink.innerHTML = docLinkHtml;\n",
              "        element.appendChild(docLink);\n",
              "      }\n",
              "    </script>\n",
              "  </div>\n",
              "\n",
              "\n",
              "<div id=\"df-2f6a392e-adaa-4ca1-9901-94a80a4deeb4\">\n",
              "  <button class=\"colab-df-quickchart\" onclick=\"quickchart('df-2f6a392e-adaa-4ca1-9901-94a80a4deeb4')\"\n",
              "            title=\"Suggest charts\"\n",
              "            style=\"display:none;\">\n",
              "\n",
              "<svg xmlns=\"http://www.w3.org/2000/svg\" height=\"24px\"viewBox=\"0 0 24 24\"\n",
              "     width=\"24px\">\n",
              "    <g>\n",
              "        <path d=\"M19 3H5c-1.1 0-2 .9-2 2v14c0 1.1.9 2 2 2h14c1.1 0 2-.9 2-2V5c0-1.1-.9-2-2-2zM9 17H7v-7h2v7zm4 0h-2V7h2v10zm4 0h-2v-4h2v4z\"/>\n",
              "    </g>\n",
              "</svg>\n",
              "  </button>\n",
              "\n",
              "<style>\n",
              "  .colab-df-quickchart {\n",
              "      --bg-color: #E8F0FE;\n",
              "      --fill-color: #1967D2;\n",
              "      --hover-bg-color: #E2EBFA;\n",
              "      --hover-fill-color: #174EA6;\n",
              "      --disabled-fill-color: #AAA;\n",
              "      --disabled-bg-color: #DDD;\n",
              "  }\n",
              "\n",
              "  [theme=dark] .colab-df-quickchart {\n",
              "      --bg-color: #3B4455;\n",
              "      --fill-color: #D2E3FC;\n",
              "      --hover-bg-color: #434B5C;\n",
              "      --hover-fill-color: #FFFFFF;\n",
              "      --disabled-bg-color: #3B4455;\n",
              "      --disabled-fill-color: #666;\n",
              "  }\n",
              "\n",
              "  .colab-df-quickchart {\n",
              "    background-color: var(--bg-color);\n",
              "    border: none;\n",
              "    border-radius: 50%;\n",
              "    cursor: pointer;\n",
              "    display: none;\n",
              "    fill: var(--fill-color);\n",
              "    height: 32px;\n",
              "    padding: 0;\n",
              "    width: 32px;\n",
              "  }\n",
              "\n",
              "  .colab-df-quickchart:hover {\n",
              "    background-color: var(--hover-bg-color);\n",
              "    box-shadow: 0 1px 2px rgba(60, 64, 67, 0.3), 0 1px 3px 1px rgba(60, 64, 67, 0.15);\n",
              "    fill: var(--button-hover-fill-color);\n",
              "  }\n",
              "\n",
              "  .colab-df-quickchart-complete:disabled,\n",
              "  .colab-df-quickchart-complete:disabled:hover {\n",
              "    background-color: var(--disabled-bg-color);\n",
              "    fill: var(--disabled-fill-color);\n",
              "    box-shadow: none;\n",
              "  }\n",
              "\n",
              "  .colab-df-spinner {\n",
              "    border: 2px solid var(--fill-color);\n",
              "    border-color: transparent;\n",
              "    border-bottom-color: var(--fill-color);\n",
              "    animation:\n",
              "      spin 1s steps(1) infinite;\n",
              "  }\n",
              "\n",
              "  @keyframes spin {\n",
              "    0% {\n",
              "      border-color: transparent;\n",
              "      border-bottom-color: var(--fill-color);\n",
              "      border-left-color: var(--fill-color);\n",
              "    }\n",
              "    20% {\n",
              "      border-color: transparent;\n",
              "      border-left-color: var(--fill-color);\n",
              "      border-top-color: var(--fill-color);\n",
              "    }\n",
              "    30% {\n",
              "      border-color: transparent;\n",
              "      border-left-color: var(--fill-color);\n",
              "      border-top-color: var(--fill-color);\n",
              "      border-right-color: var(--fill-color);\n",
              "    }\n",
              "    40% {\n",
              "      border-color: transparent;\n",
              "      border-right-color: var(--fill-color);\n",
              "      border-top-color: var(--fill-color);\n",
              "    }\n",
              "    60% {\n",
              "      border-color: transparent;\n",
              "      border-right-color: var(--fill-color);\n",
              "    }\n",
              "    80% {\n",
              "      border-color: transparent;\n",
              "      border-right-color: var(--fill-color);\n",
              "      border-bottom-color: var(--fill-color);\n",
              "    }\n",
              "    90% {\n",
              "      border-color: transparent;\n",
              "      border-bottom-color: var(--fill-color);\n",
              "    }\n",
              "  }\n",
              "</style>\n",
              "\n",
              "  <script>\n",
              "    async function quickchart(key) {\n",
              "      const quickchartButtonEl =\n",
              "        document.querySelector('#' + key + ' button');\n",
              "      quickchartButtonEl.disabled = true;  // To prevent multiple clicks.\n",
              "      quickchartButtonEl.classList.add('colab-df-spinner');\n",
              "      try {\n",
              "        const charts = await google.colab.kernel.invokeFunction(\n",
              "            'suggestCharts', [key], {});\n",
              "      } catch (error) {\n",
              "        console.error('Error during call to suggestCharts:', error);\n",
              "      }\n",
              "      quickchartButtonEl.classList.remove('colab-df-spinner');\n",
              "      quickchartButtonEl.classList.add('colab-df-quickchart-complete');\n",
              "    }\n",
              "    (() => {\n",
              "      let quickchartButtonEl =\n",
              "        document.querySelector('#df-2f6a392e-adaa-4ca1-9901-94a80a4deeb4 button');\n",
              "      quickchartButtonEl.style.display =\n",
              "        google.colab.kernel.accessAllowed ? 'block' : 'none';\n",
              "    })();\n",
              "  </script>\n",
              "</div>\n",
              "\n",
              "    </div>\n",
              "  </div>\n"
            ],
            "application/vnd.google.colaboratory.intrinsic+json": {
              "type": "dataframe",
              "variable_name": "car_data",
              "summary": "{\n  \"name\": \"car_data\",\n  \"rows\": 1728,\n  \"fields\": [\n    {\n      \"column\": \"buying\",\n      \"properties\": {\n        \"dtype\": \"category\",\n        \"num_unique_values\": 4,\n        \"samples\": [\n          \"high\",\n          \"low\",\n          \"vhigh\"\n        ],\n        \"semantic_type\": \"\",\n        \"description\": \"\"\n      }\n    },\n    {\n      \"column\": \"maint\",\n      \"properties\": {\n        \"dtype\": \"category\",\n        \"num_unique_values\": 4,\n        \"samples\": [\n          \"high\",\n          \"low\",\n          \"vhigh\"\n        ],\n        \"semantic_type\": \"\",\n        \"description\": \"\"\n      }\n    },\n    {\n      \"column\": \"doors\",\n      \"properties\": {\n        \"dtype\": \"category\",\n        \"num_unique_values\": 4,\n        \"samples\": [\n          \"3\",\n          \"5more\",\n          \"2\"\n        ],\n        \"semantic_type\": \"\",\n        \"description\": \"\"\n      }\n    },\n    {\n      \"column\": \"persons\",\n      \"properties\": {\n        \"dtype\": \"category\",\n        \"num_unique_values\": 3,\n        \"samples\": [\n          \"2\",\n          \"4\",\n          \"more\"\n        ],\n        \"semantic_type\": \"\",\n        \"description\": \"\"\n      }\n    },\n    {\n      \"column\": \"lug_boot\",\n      \"properties\": {\n        \"dtype\": \"category\",\n        \"num_unique_values\": 3,\n        \"samples\": [\n          \"small\",\n          \"med\",\n          \"big\"\n        ],\n        \"semantic_type\": \"\",\n        \"description\": \"\"\n      }\n    },\n    {\n      \"column\": \"safety\",\n      \"properties\": {\n        \"dtype\": \"category\",\n        \"num_unique_values\": 3,\n        \"samples\": [\n          \"low\",\n          \"med\",\n          \"high\"\n        ],\n        \"semantic_type\": \"\",\n        \"description\": \"\"\n      }\n    },\n    {\n      \"column\": \"binaryClass\",\n      \"properties\": {\n        \"dtype\": \"category\",\n        \"num_unique_values\": 2,\n        \"samples\": [\n          \"N\",\n          \"P\"\n        ],\n        \"semantic_type\": \"\",\n        \"description\": \"\"\n      }\n    }\n  ]\n}"
            }
          },
          "metadata": {},
          "execution_count": 64
        }
      ]
    },
    {
      "cell_type": "code",
      "source": [
        "car_data=car_data.frame\n",
        "car_data.head"
      ],
      "metadata": {
        "colab": {
          "base_uri": "https://localhost:8080/",
          "height": 280
        },
        "id": "X3MxdlwYmODo",
        "outputId": "a6198c47-4d7b-4fb4-dced-391296d57281"
      },
      "execution_count": null,
      "outputs": [
        {
          "output_type": "error",
          "ename": "AttributeError",
          "evalue": "'DataFrame' object has no attribute 'frame'",
          "traceback": [
            "\u001b[0;31m---------------------------------------------------------------------------\u001b[0m",
            "\u001b[0;31mAttributeError\u001b[0m                            Traceback (most recent call last)",
            "\u001b[0;32m<ipython-input-66-6160cb03ccee>\u001b[0m in \u001b[0;36m<cell line: 1>\u001b[0;34m()\u001b[0m\n\u001b[0;32m----> 1\u001b[0;31m \u001b[0mcar_data\u001b[0m\u001b[0;34m=\u001b[0m\u001b[0mcar_data\u001b[0m\u001b[0;34m.\u001b[0m\u001b[0mframe\u001b[0m\u001b[0;34m\u001b[0m\u001b[0;34m\u001b[0m\u001b[0m\n\u001b[0m\u001b[1;32m      2\u001b[0m \u001b[0mcar_data\u001b[0m\u001b[0;34m.\u001b[0m\u001b[0mhead\u001b[0m\u001b[0;34m\u001b[0m\u001b[0;34m\u001b[0m\u001b[0m\n",
            "\u001b[0;32m/usr/local/lib/python3.10/dist-packages/pandas/core/generic.py\u001b[0m in \u001b[0;36m__getattr__\u001b[0;34m(self, name)\u001b[0m\n\u001b[1;32m   6202\u001b[0m         ):\n\u001b[1;32m   6203\u001b[0m             \u001b[0;32mreturn\u001b[0m \u001b[0mself\u001b[0m\u001b[0;34m[\u001b[0m\u001b[0mname\u001b[0m\u001b[0;34m]\u001b[0m\u001b[0;34m\u001b[0m\u001b[0;34m\u001b[0m\u001b[0m\n\u001b[0;32m-> 6204\u001b[0;31m         \u001b[0;32mreturn\u001b[0m \u001b[0mobject\u001b[0m\u001b[0;34m.\u001b[0m\u001b[0m__getattribute__\u001b[0m\u001b[0;34m(\u001b[0m\u001b[0mself\u001b[0m\u001b[0;34m,\u001b[0m \u001b[0mname\u001b[0m\u001b[0;34m)\u001b[0m\u001b[0;34m\u001b[0m\u001b[0;34m\u001b[0m\u001b[0m\n\u001b[0m\u001b[1;32m   6205\u001b[0m \u001b[0;34m\u001b[0m\u001b[0m\n\u001b[1;32m   6206\u001b[0m     \u001b[0;34m@\u001b[0m\u001b[0mfinal\u001b[0m\u001b[0;34m\u001b[0m\u001b[0;34m\u001b[0m\u001b[0m\n",
            "\u001b[0;31mAttributeError\u001b[0m: 'DataFrame' object has no attribute 'frame'"
          ]
        }
      ]
    },
    {
      "cell_type": "markdown",
      "source": [
        "#Exploratory Analysis"
      ],
      "metadata": {
        "id": "BmBmbzU5nluF"
      }
    },
    {
      "cell_type": "code",
      "source": [
        "sns.countplot(x=car_data.binaryClass,hue='persons',data=car_data,palette='rainbow')"
      ],
      "metadata": {
        "colab": {
          "base_uri": "https://localhost:8080/",
          "height": 469
        },
        "id": "aDZRQwVbmJA9",
        "outputId": "a54c607e-9360-477a-b276-e0bc22ed7188"
      },
      "execution_count": null,
      "outputs": [
        {
          "output_type": "execute_result",
          "data": {
            "text/plain": [
              "<Axes: xlabel='binaryClass', ylabel='count'>"
            ]
          },
          "metadata": {},
          "execution_count": 67
        },
        {
          "output_type": "display_data",
          "data": {
            "text/plain": [
              "<Figure size 640x480 with 1 Axes>"
            ],
            "image/png": "[encoded data removed]"
          },
          "metadata": {}
        }
      ]
    },
    {
      "cell_type": "code",
      "source": [
        "sns.countplot(x=car_data.binaryClass,hue='doors',data=car_data,palette='rainbow')"
      ],
      "metadata": {
        "colab": {
          "base_uri": "https://localhost:8080/",
          "height": 466
        },
        "id": "-8x3Ldwsoa2v",
        "outputId": "25e6c6d9-269c-45d1-f9b1-9ac32ccd5115"
      },
      "execution_count": null,
      "outputs": [
        {
          "output_type": "execute_result",
          "data": {
            "text/plain": [
              "<Axes: xlabel='binaryClass', ylabel='count'>"
            ]
          },
          "metadata": {},
          "execution_count": 68
        },
        {
          "output_type": "display_data",
          "data": {
            "text/plain": [
              "<Figure size 640x480 with 1 Axes>"
            ],
            "image/png": "[encoded data removed]"
          },
          "metadata": {}
        }
      ]
    },
    {
      "cell_type": "markdown",
      "source": [
        "Splitiing data into Training and Test Sets"
      ],
      "metadata": {
        "id": "kNQYsRd-ovj8"
      }
    },
    {
      "cell_type": "code",
      "source": [
        "from sklearn.model_selection import train_test_split\n",
        "train_data,test_data=train_test_split(car_data,test_size=0.2,random_state=20)\n",
        "print(\"Training data is: {}\\n testing data is: {}\".format(len(train_data),len(test_data)))"
      ],
      "metadata": {
        "colab": {
          "base_uri": "https://localhost:8080/"
        },
        "id": "EcP_ZWVuo0eh",
        "outputId": "29853f63-7761-4621-8f46-be151778f2ff"
      },
      "execution_count": null,
      "outputs": [
        {
          "output_type": "stream",
          "name": "stdout",
          "text": [
            "Training data is: 1382\n",
            " testing data is: 346\n"
          ]
        }
      ]
    },
    {
      "cell_type": "code",
      "source": [
        "from sklearn.preprocessing import LabelEncoder\n",
        "label_enc=LabelEncoder()\n",
        "car_labels_prepared=label_enc.fit_transform(car_lables)"
      ],
      "metadata": {
        "colab": {
          "base_uri": "https://localhost:8080/",
          "height": 176
        },
        "id": "2n8D4eXTtIL0",
        "outputId": "805d5587-abc9-4636-9098-76d4f0242af7"
      },
      "execution_count": null,
      "outputs": [
        {
          "output_type": "error",
          "ename": "NameError",
          "evalue": "name 'car_lables' is not defined",
          "traceback": [
            "\u001b[0;31m---------------------------------------------------------------------------\u001b[0m",
            "\u001b[0;31mNameError\u001b[0m                                 Traceback (most recent call last)",
            "\u001b[0;32m<ipython-input-71-4eee0e8e96d5>\u001b[0m in \u001b[0;36m<cell line: 3>\u001b[0;34m()\u001b[0m\n\u001b[1;32m      1\u001b[0m \u001b[0;32mfrom\u001b[0m \u001b[0msklearn\u001b[0m\u001b[0;34m.\u001b[0m\u001b[0mpreprocessing\u001b[0m \u001b[0;32mimport\u001b[0m \u001b[0mLabelEncoder\u001b[0m\u001b[0;34m\u001b[0m\u001b[0;34m\u001b[0m\u001b[0m\n\u001b[1;32m      2\u001b[0m \u001b[0mlabel_enc\u001b[0m\u001b[0;34m=\u001b[0m\u001b[0mLabelEncoder\u001b[0m\u001b[0;34m(\u001b[0m\u001b[0;34m)\u001b[0m\u001b[0;34m\u001b[0m\u001b[0;34m\u001b[0m\u001b[0m\n\u001b[0;32m----> 3\u001b[0;31m \u001b[0mcar_labels_prepared\u001b[0m\u001b[0;34m=\u001b[0m\u001b[0mlabel_enc\u001b[0m\u001b[0;34m.\u001b[0m\u001b[0mfit_transform\u001b[0m\u001b[0;34m(\u001b[0m\u001b[0mcar_lables\u001b[0m\u001b[0;34m)\u001b[0m\u001b[0;34m\u001b[0m\u001b[0;34m\u001b[0m\u001b[0m\n\u001b[0m",
            "\u001b[0;31mNameError\u001b[0m: name 'car_lables' is not defined"
          ]
        }
      ]
    },
    {
      "cell_type": "code",
      "source": [
        "car_train_prepared.shape,car_labels_prepared.shape"
      ],
      "metadata": {
        "colab": {
          "base_uri": "https://localhost:8080/",
          "height": 141
        },
        "id": "2EYqKGTTtnKY",
        "outputId": "f812a641-e898-41df-9ff2-73c409c932a9"
      },
      "execution_count": null,
      "outputs": [
        {
          "output_type": "error",
          "ename": "NameError",
          "evalue": "name 'car_train_prepared' is not defined",
          "traceback": [
            "\u001b[0;31m---------------------------------------------------------------------------\u001b[0m",
            "\u001b[0;31mNameError\u001b[0m                                 Traceback (most recent call last)",
            "\u001b[0;32m<ipython-input-73-4c39135937eb>\u001b[0m in \u001b[0;36m<cell line: 1>\u001b[0;34m()\u001b[0m\n\u001b[0;32m----> 1\u001b[0;31m \u001b[0mcar_train_prepared\u001b[0m\u001b[0;34m.\u001b[0m\u001b[0mshape\u001b[0m\u001b[0;34m,\u001b[0m\u001b[0mcar_labels_prepared\u001b[0m\u001b[0;34m.\u001b[0m\u001b[0mshape\u001b[0m\u001b[0;34m\u001b[0m\u001b[0;34m\u001b[0m\u001b[0m\n\u001b[0m",
            "\u001b[0;31mNameError\u001b[0m: name 'car_train_prepared' is not defined"
          ]
        }
      ]
    },
    {
      "cell_type": "markdown",
      "source": [
        "#Training Decision Tree Classifier"
      ],
      "metadata": {
        "id": "hBJwnUwgtAgt"
      }
    },
    {
      "cell_type": "code",
      "source": [
        "from sklearn.tree import DecisionTreeClassifier\n",
        "tree_clf=DecisionTreeClassifier()\n",
        "tree_clf.fit(car_train_prepared,car_labels_prepared)"
      ],
      "metadata": {
        "colab": {
          "base_uri": "https://localhost:8080/",
          "height": 176
        },
        "id": "xNLVxkB7tGyz",
        "outputId": "3c1bc7d3-2307-4f29-cc25-2768076451b7"
      },
      "execution_count": null,
      "outputs": [
        {
          "output_type": "error",
          "ename": "NameError",
          "evalue": "name 'car_train_prepared' is not defined",
          "traceback": [
            "\u001b[0;31m---------------------------------------------------------------------------\u001b[0m",
            "\u001b[0;31mNameError\u001b[0m                                 Traceback (most recent call last)",
            "\u001b[0;32m<ipython-input-74-cdadefd3ce96>\u001b[0m in \u001b[0;36m<cell line: 3>\u001b[0;34m()\u001b[0m\n\u001b[1;32m      1\u001b[0m \u001b[0;32mfrom\u001b[0m \u001b[0msklearn\u001b[0m\u001b[0;34m.\u001b[0m\u001b[0mtree\u001b[0m \u001b[0;32mimport\u001b[0m \u001b[0mDecisionTreeClassifier\u001b[0m\u001b[0;34m\u001b[0m\u001b[0;34m\u001b[0m\u001b[0m\n\u001b[1;32m      2\u001b[0m \u001b[0mtree_clf\u001b[0m\u001b[0;34m=\u001b[0m\u001b[0mDecisionTreeClassifier\u001b[0m\u001b[0;34m(\u001b[0m\u001b[0;34m)\u001b[0m\u001b[0;34m\u001b[0m\u001b[0;34m\u001b[0m\u001b[0m\n\u001b[0;32m----> 3\u001b[0;31m \u001b[0mtree_clf\u001b[0m\u001b[0;34m.\u001b[0m\u001b[0mfit\u001b[0m\u001b[0;34m(\u001b[0m\u001b[0mcar_train_prepared\u001b[0m\u001b[0;34m,\u001b[0m\u001b[0mcar_labels_prepared\u001b[0m\u001b[0;34m)\u001b[0m\u001b[0;34m\u001b[0m\u001b[0;34m\u001b[0m\u001b[0m\n\u001b[0m",
            "\u001b[0;31mNameError\u001b[0m: name 'car_train_prepared' is not defined"
          ]
        }
      ]
    },
    {
      "cell_type": "code",
      "source": [
        "from sklearn.tree import export_text\n",
        "text_representation=export_text(tree_clf,feature_names=list(car_train.columns))\n",
        "print(text_representation)\n",
        "text_representation.plot_tree(car_train,car_labels)"
      ],
      "metadata": {
        "colab": {
          "base_uri": "https://localhost:8080/",
          "height": 176
        },
        "id": "xuGo4tYdug5g",
        "outputId": "d938e279-9173-44f2-a468-7db6f7d8a8ec"
      },
      "execution_count": null,
      "outputs": [
        {
          "output_type": "error",
          "ename": "NameError",
          "evalue": "name 'car_train' is not defined",
          "traceback": [
            "\u001b[0;31m---------------------------------------------------------------------------\u001b[0m",
            "\u001b[0;31mNameError\u001b[0m                                 Traceback (most recent call last)",
            "\u001b[0;32m<ipython-input-78-68c168754c61>\u001b[0m in \u001b[0;36m<cell line: 2>\u001b[0;34m()\u001b[0m\n\u001b[1;32m      1\u001b[0m \u001b[0;32mfrom\u001b[0m \u001b[0msklearn\u001b[0m\u001b[0;34m.\u001b[0m\u001b[0mtree\u001b[0m \u001b[0;32mimport\u001b[0m \u001b[0mexport_text\u001b[0m\u001b[0;34m\u001b[0m\u001b[0;34m\u001b[0m\u001b[0m\n\u001b[0;32m----> 2\u001b[0;31m \u001b[0mtext_representation\u001b[0m\u001b[0;34m=\u001b[0m\u001b[0mexport_text\u001b[0m\u001b[0;34m(\u001b[0m\u001b[0mtree_clf\u001b[0m\u001b[0;34m,\u001b[0m\u001b[0mfeature_names\u001b[0m\u001b[0;34m=\u001b[0m\u001b[0mlist\u001b[0m\u001b[0;34m(\u001b[0m\u001b[0mcar_train\u001b[0m\u001b[0;34m.\u001b[0m\u001b[0mcolumns\u001b[0m\u001b[0;34m)\u001b[0m\u001b[0;34m)\u001b[0m\u001b[0;34m\u001b[0m\u001b[0;34m\u001b[0m\u001b[0m\n\u001b[0m\u001b[1;32m      3\u001b[0m \u001b[0mprint\u001b[0m\u001b[0;34m(\u001b[0m\u001b[0mtext_representation\u001b[0m\u001b[0;34m)\u001b[0m\u001b[0;34m\u001b[0m\u001b[0;34m\u001b[0m\u001b[0m\n",
            "\u001b[0;31mNameError\u001b[0m: name 'car_train' is not defined"
          ]
        }
      ]
    },
    {
      "cell_type": "markdown",
      "source": [
        "#Evaluation of Metrics"
      ],
      "metadata": {
        "id": "uVZ_9jgNwX5p"
      }
    },
    {
      "cell_type": "code",
      "source": [
        "from sklearn.metrics import accuracy_score,classification_report,confusion_matrix\n",
        "preds=tree_clf.predict(car_train_prepared)\n",
        "print(f\"Accuracy:{accuracy_score(car_labels_prepared,preds)}\")\n",
        "print(f\"ClassReport:{classification_report(car_labels_prepared,preds)}\")\n",
        "print(f\"Confusuion Matrix:{confusion_matrix(car_labels_prepared,preds)}\")"
      ],
      "metadata": {
        "id": "60aOxBxfwaqc"
      },
      "execution_count": null,
      "outputs": []
    },
    {
      "cell_type": "code",
      "source": [
        "from sklearn.metrics import classification_report\n"
      ],
      "metadata": {
        "id": "AzqhYRjIxRJe"
      },
      "execution_count": null,
      "outputs": []
    }
  ]
}